{
 "cells": [
  {
   "cell_type": "code",
   "execution_count": 1,
   "id": "4f3b0350-682f-4ce4-807f-7ce5d4b87f03",
   "metadata": {
    "tags": []
   },
   "outputs": [
    {
     "data": {
      "text/plain": [
       "[-1.25,\n",
       " -0.9722222222222222,\n",
       " -0.6944444444444444,\n",
       " -0.41666666666666663,\n",
       " -0.13888888888888884,\n",
       " 0.13888888888888884,\n",
       " 0.41666666666666674,\n",
       " 0.6944444444444446,\n",
       " 0.9722222222222223,\n",
       " 1.25]"
      ]
     },
     "execution_count": 1,
     "metadata": {},
     "output_type": "execute_result"
    }
   ],
   "source": [
    "y_min, y_max = -1.25, 1.25\n",
    "resolution = 10\n",
    "\n",
    "y = [y_min + (y_max - y_min) / (resolution - 1) * index for index in range(resolution)]\n",
    "y"
   ]
  },
  {
   "cell_type": "code",
   "execution_count": 2,
   "id": "569e848d-03d8-457a-af72-23448a5207ff",
   "metadata": {
    "tags": []
   },
   "outputs": [
    {
     "data": {
      "text/plain": [
       "[-1.25,\n",
       " -0.9722222222222223,\n",
       " -0.6944444444444445,\n",
       " -0.4166666666666667,\n",
       " -0.13888888888888884,\n",
       " 0.13888888888888884,\n",
       " 0.4166666666666667,\n",
       " 0.6944444444444445,\n",
       " 0.9722222222222223,\n",
       " 1.25]"
      ]
     },
     "execution_count": 2,
     "metadata": {},
     "output_type": "execute_result"
    }
   ],
   "source": [
    "_y1 = [y_min + (y_max - y_min) / (resolution - 1) * index for index in range(resolution)]\n",
    "_y2 = [-y for y in _y1[::-1]]\n",
    "y = [(y1 + y2) / 2 for y1, y2 in zip(_y1, _y2)]\n",
    "y"
   ]
  },
  {
   "cell_type": "code",
   "execution_count": null,
   "id": "39baf34a-96c2-45ad-bed9-eb54b76a9247",
   "metadata": {},
   "outputs": [],
   "source": []
  }
 ],
 "metadata": {
  "kernelspec": {
   "display_name": "Python 3 (ipykernel)",
   "language": "python",
   "name": "python3"
  },
  "language_info": {
   "codemirror_mode": {
    "name": "ipython",
    "version": 3
   },
   "file_extension": ".py",
   "mimetype": "text/x-python",
   "name": "python",
   "nbconvert_exporter": "python",
   "pygments_lexer": "ipython3",
   "version": "3.10.10"
  }
 },
 "nbformat": 4,
 "nbformat_minor": 5
}