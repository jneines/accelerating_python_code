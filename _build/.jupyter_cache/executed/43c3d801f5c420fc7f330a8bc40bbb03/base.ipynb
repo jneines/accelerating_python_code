{
 "cells": [
  {
   "cell_type": "code",
   "execution_count": 1,
   "id": "df4659da-74b7-4131-a8b8-51aa1713fa75",
   "metadata": {
    "execution": {
     "iopub.execute_input": "2023-04-11T17:32:27.570774Z",
     "iopub.status.busy": "2023-04-11T17:32:27.570430Z",
     "iopub.status.idle": "2023-04-11T17:32:27.576221Z",
     "shell.execute_reply": "2023-04-11T17:32:27.575354Z",
     "shell.execute_reply.started": "2023-04-11T17:32:27.570669Z"
    },
    "tags": []
   },
   "outputs": [],
   "source": [
    "y_min, y_max = -1.25, 1.25\n",
    "resolution = 10"
   ]
  },
  {
   "cell_type": "code",
   "execution_count": 2,
   "id": "4f3b0350-682f-4ce4-807f-7ce5d4b87f03",
   "metadata": {
    "execution": {
     "iopub.execute_input": "2023-04-11T17:32:27.578802Z",
     "iopub.status.busy": "2023-04-11T17:32:27.578586Z",
     "iopub.status.idle": "2023-04-11T17:32:27.587508Z",
     "shell.execute_reply": "2023-04-11T17:32:27.586650Z",
     "shell.execute_reply.started": "2023-04-11T17:32:27.578788Z"
    },
    "tags": []
   },
   "outputs": [
    {
     "data": {
      "text/plain": [
       "[-1.25,\n",
       " -0.9722222222222222,\n",
       " -0.6944444444444444,\n",
       " -0.41666666666666663,\n",
       " -0.13888888888888884,\n",
       " 0.13888888888888884,\n",
       " 0.41666666666666674,\n",
       " 0.6944444444444446,\n",
       " 0.9722222222222223,\n",
       " 1.25]"
      ]
     },
     "execution_count": 2,
     "metadata": {},
     "output_type": "execute_result"
    }
   ],
   "source": [
    "y = [y_min + (y_max - y_min) / (resolution - 1) * index for index in range(resolution)]\n",
    "y"
   ]
  },
  {
   "cell_type": "code",
   "execution_count": 3,
   "id": "569e848d-03d8-457a-af72-23448a5207ff",
   "metadata": {
    "execution": {
     "iopub.execute_input": "2023-04-11T17:32:27.588518Z",
     "iopub.status.busy": "2023-04-11T17:32:27.588308Z",
     "iopub.status.idle": "2023-04-11T17:32:27.592819Z",
     "shell.execute_reply": "2023-04-11T17:32:27.592389Z",
     "shell.execute_reply.started": "2023-04-11T17:32:27.588503Z"
    },
    "tags": []
   },
   "outputs": [
    {
     "data": {
      "text/plain": [
       "[-1.25,\n",
       " -0.9722222222222223,\n",
       " -0.6944444444444445,\n",
       " -0.4166666666666667,\n",
       " -0.13888888888888884,\n",
       " 0.13888888888888884,\n",
       " 0.4166666666666667,\n",
       " 0.6944444444444445,\n",
       " 0.9722222222222223,\n",
       " 1.25]"
      ]
     },
     "execution_count": 3,
     "metadata": {},
     "output_type": "execute_result"
    }
   ],
   "source": [
    "_y1 = [y_min + (y_max - y_min) / (resolution - 1) * index for index in range(resolution)]\n",
    "_y2 = [-y for y in _y1[::-1]]\n",
    "y = [(y1 + y2) / 2 for y1, y2 in zip(_y1, _y2)]\n",
    "y"
   ]
  },
  {
   "cell_type": "code",
   "execution_count": null,
   "id": "39baf34a-96c2-45ad-bed9-eb54b76a9247",
   "metadata": {},
   "outputs": [],
   "source": []
  }
 ],
 "metadata": {
  "kernelspec": {
   "display_name": "Python 3 (ipykernel)",
   "language": "python",
   "name": "python3"
  },
  "language_info": {
   "codemirror_mode": {
    "name": "ipython",
    "version": 3
   },
   "file_extension": ".py",
   "mimetype": "text/x-python",
   "name": "python",
   "nbconvert_exporter": "python",
   "pygments_lexer": "ipython3",
   "version": "3.10.10"
  }
 },
 "nbformat": 4,
 "nbformat_minor": 5
}