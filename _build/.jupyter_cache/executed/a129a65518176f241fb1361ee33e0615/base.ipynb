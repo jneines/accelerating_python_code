{
 "cells": [
  {
   "cell_type": "code",
   "execution_count": 1,
   "id": "1e0ae3bc-510c-4f61-9ed0-d5aecb88a171",
   "metadata": {},
   "outputs": [],
   "source": [
    "from pathlib import Path"
   ]
  },
  {
   "cell_type": "code",
   "execution_count": 2,
   "id": "df19af38-80d2-4c53-969a-772110ccd318",
   "metadata": {},
   "outputs": [],
   "source": [
    "p = Path(\"/Users/jneines/development/pycon_berlin_2023/mandelbrot/results/\")"
   ]
  },
  {
   "cell_type": "code",
   "execution_count": null,
   "id": "eaefafca-5288-4a82-91c1-63d9dec7f34d",
   "metadata": {},
   "outputs": [],
   "source": []
  }
 ],
 "metadata": {
  "kernelspec": {
   "display_name": "Python 3 (ipykernel)",
   "language": "python",
   "name": "python3"
  },
  "language_info": {
   "codemirror_mode": {
    "name": "ipython",
    "version": 3
   },
   "file_extension": ".py",
   "mimetype": "text/x-python",
   "name": "python",
   "nbconvert_exporter": "python",
   "pygments_lexer": "ipython3",
   "version": "3.10.10"
  }
 },
 "nbformat": 4,
 "nbformat_minor": 5
}