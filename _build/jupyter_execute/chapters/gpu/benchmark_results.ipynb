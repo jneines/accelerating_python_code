{
 "cells": [
  {
   "cell_type": "markdown",
   "id": "1eab01b7-a47c-4281-b4e9-02ac11a8320b",
   "metadata": {
    "user_expressions": []
   },
   "source": [
    "# Benchmark results\n"
   ]
  },
  {
   "cell_type": "markdown",
   "id": "b46d134a-1f3e-4689-95bd-039f4cf12cbe",
   "metadata": {
    "user_expressions": []
   },
   "source": [
    ":::{note}\n",
    "The results shown here are based on quite naive, straight forward implementations to use the GPU as a calculation backend.\n",
    "The best possible performance is depending on many things, such as \n",
    "the type of the GPU, \n",
    "driver versions, \n",
    "library versions \n",
    "and bandwidth between CPU and GPU contexts for example.\n",
    "\n",
    "To achieve the best possible performance, care should be taken to keep the amount of data transfer between CPU and GPU contexts as low as possible.\n",
    ":::"
   ]
  },
  {
   "cell_type": "code",
   "execution_count": 1,
   "id": "389676ff-28c8-42ef-91a7-56b31f9de385",
   "metadata": {
    "execution": {
     "iopub.execute_input": "2023-04-14T06:57:23.698655Z",
     "iopub.status.busy": "2023-04-14T06:57:23.698471Z",
     "iopub.status.idle": "2023-04-14T06:57:23.705001Z",
     "shell.execute_reply": "2023-04-14T06:57:23.704243Z",
     "shell.execute_reply.started": "2023-04-14T06:57:23.698605Z"
    },
    "tags": []
   },
   "outputs": [],
   "source": [
    "view_names = [\"base\", \"slight01\", \"medium01\"]\n",
    "host_name = \"NUC\"\n",
    "engine_names = [\"naive\", \"cupy\", \"numba-cuda\", \"torch-cuda\"]"
   ]
  },
  {
   "cell_type": "code",
   "execution_count": 2,
   "id": "27ba4f1f-170f-4304-a526-c67fe18ca3ac",
   "metadata": {
    "execution": {
     "iopub.execute_input": "2023-04-14T06:57:23.708269Z",
     "iopub.status.busy": "2023-04-14T06:57:23.707864Z",
     "iopub.status.idle": "2023-04-14T06:57:28.760729Z",
     "shell.execute_reply": "2023-04-14T06:57:28.759907Z",
     "shell.execute_reply.started": "2023-04-14T06:57:23.708246Z"
    },
    "tags": [
     "hide-input"
    ]
   },
   "outputs": [
    {
     "name": "stdout",
     "output_type": "stream",
     "text": [
      "We have 120 results to analyze.\n"
     ]
    },
    {
     "data": {
      "application/vnd.jupyter.widget-view+json": {
       "model_id": "7025bce61dc04a529f9090000f39e962",
       "version_major": 2,
       "version_minor": 0
      },
      "text/plain": [
       "Tab(children=(Output(), Output(), Output()), selected_index=0, titles=('base', 'medium01', 'slight01'))"
      ]
     },
     "execution_count": 2,
     "metadata": {},
     "output_type": "execute_result"
    }
   ],
   "source": [
    "from pathlib import Path\n",
    "import json\n",
    "\n",
    "import ipywidgets as ipw\n",
    "import matplotlib.pyplot as plt\n",
    "import seaborn as sns\n",
    "import pandas as pd\n",
    "\n",
    "sns.set()\n",
    "plt.rcParams['figure.dpi'] = 300\n",
    "\n",
    "results_dir = Path(\"/Users/jneines/development/pycon_berlin_2023/mandelbrot/results/\")\n",
    "\n",
    "results = []\n",
    "for results_file in results_dir.glob(\"*/*/*.json\"):\n",
    "    with results_file.open(\"r\") as fd:\n",
    "        result = json.loads(fd.read())\n",
    "        results.append(result)\n",
    "        \n",
    "df = pd.DataFrame(results)\n",
    "\n",
    "dfs = df[\n",
    "    (df[\"view\"].isin(view_names))\n",
    "    & (df[\"hostname\"] == host_name)\n",
    "    & (df[\"engine\"].isin(engine_names))\n",
    "].reset_index(drop=True)\n",
    "print(f\"We have {len(dfs)} results to analyze.\")\n",
    "\n",
    "tabs = ipw.Tab()\n",
    "\n",
    "tabs_children = []\n",
    "tab_names = []\n",
    "for view_name, _dfs in dfs.groupby(\"view\"):\n",
    "    tab_names.append(view_name)\n",
    "    with plt.ioff():\n",
    "        output = ipw.Output()\n",
    "        with output:\n",
    "            fig, axes = plt.subplots()\n",
    "            sns.violinplot(data=_dfs, x=\"engine\", y=\"calculation_time\", order=engine_names, ax=axes)\n",
    "            axes.set_ylim(0, None)\n",
    "            axes.set_ylabel(\"Calculation time [s]\")\n",
    "            axes.set_xlabel(None)\n",
    "\n",
    "            axes.set_xticklabels([\"\\n\" * (x_position%2) + label.get_text() for x_position, label in enumerate(axes.get_xticklabels())])\n",
    "            axes.set_title(view_name)\n",
    "\n",
    "            plt.tight_layout()\n",
    "            plt.show()\n",
    "        tabs_children.append(output)\n",
    "        \n",
    "tabs.children = tabs_children\n",
    "for index, tab_name in enumerate(tab_names):\n",
    "    tabs.set_title(index, tab_name)\n",
    "\n",
    "tabs"
   ]
  },
  {
   "cell_type": "code",
   "execution_count": null,
   "id": "e7676d4b-7dac-4a85-9158-b0c9e1ca29de",
   "metadata": {},
   "outputs": [],
   "source": []
  },
  {
   "cell_type": "code",
   "execution_count": null,
   "id": "d73b793f-d423-4f23-8c76-dbb9822b420c",
   "metadata": {},
   "outputs": [],
   "source": []
  }
 ],
 "metadata": {
  "kernelspec": {
   "display_name": "Python 3 (ipykernel)",
   "language": "python",
   "name": "python3"
  },
  "language_info": {
   "codemirror_mode": {
    "name": "ipython",
    "version": 3
   },
   "file_extension": ".py",
   "mimetype": "text/x-python",
   "name": "python",
   "nbconvert_exporter": "python",
   "pygments_lexer": "ipython3",
   "version": "3.10.10"
  }
 },
 "nbformat": 4,
 "nbformat_minor": 5
}