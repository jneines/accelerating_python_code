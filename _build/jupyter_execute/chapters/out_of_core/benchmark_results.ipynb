{
 "cells": [
  {
   "cell_type": "markdown",
   "id": "d6961acf-7a1f-4cf3-9403-4e9da577c06d",
   "metadata": {
    "user_expressions": []
   },
   "source": [
    "# Benchmark results"
   ]
  },
  {
   "cell_type": "markdown",
   "id": "3d445f39-6648-4ce6-85a4-2fd3000ae7a6",
   "metadata": {
    "user_expressions": []
   },
   "source": [
    ":::{note}\n",
    "The results shown here are based on a simple row by row calculation.\n",
    "This may or may not be ideal though.\n",
    "best performance depends on various factors, such as input size of the arrays to be computed, \n",
    "number of cores available \n",
    "memory bandwith \n",
    "and overall system load.\n",
    "To achieve the best possible results, the chunk size should be carefully chosen.\n",
    ":::"
   ]
  },
  {
   "cell_type": "code",
   "execution_count": 7,
   "id": "21119b9b-59e9-4944-b5db-fca3c1c784fd",
   "metadata": {
    "execution": {
     "iopub.execute_input": "2023-04-12T18:26:48.852380Z",
     "iopub.status.busy": "2023-04-12T18:26:48.852149Z",
     "iopub.status.idle": "2023-04-12T18:26:48.855107Z",
     "shell.execute_reply": "2023-04-12T18:26:48.854658Z",
     "shell.execute_reply.started": "2023-04-12T18:26:48.852362Z"
    },
    "tags": []
   },
   "outputs": [],
   "source": [
    "view_names = [\"base\", \"slight01\", \"medium01\"]\n",
    "host_name = \"NUC\"\n",
    "engine_names = [\"naive\", \"mp-naive\", \"mp-numpy\", \"cf-tp-naive\", \"cf-pp-naive\", \"cf-tp-numpy\", \"cf-pp-numpy\", \"torch\"]"
   ]
  },
  {
   "cell_type": "code",
   "execution_count": 9,
   "id": "9bcf4837-0c8d-4cd8-a9af-3244c2939b16",
   "metadata": {
    "execution": {
     "iopub.execute_input": "2023-04-14T06:56:34.247070Z",
     "iopub.status.busy": "2023-04-14T06:56:34.246844Z",
     "iopub.status.idle": "2023-04-14T06:56:38.383692Z",
     "shell.execute_reply": "2023-04-14T06:56:38.382874Z",
     "shell.execute_reply.started": "2023-04-14T06:56:34.247053Z"
    },
    "tags": [
     "hide-input"
    ]
   },
   "outputs": [
    {
     "name": "stdout",
     "output_type": "stream",
     "text": [
      "We have 240 results to analyze.\n"
     ]
    },
    {
     "data": {
      "application/vnd.jupyter.widget-view+json": {
       "model_id": "c3d0512879ee4255913ea16675332ed0",
       "version_major": 2,
       "version_minor": 0
      },
      "text/plain": [
       "Tab(children=(Output(), Output(), Output()), selected_index=0, titles=('base', 'medium01', 'slight01'))"
      ]
     },
     "execution_count": 9,
     "metadata": {},
     "output_type": "execute_result"
    }
   ],
   "source": [
    "from pathlib import Path\n",
    "import json\n",
    "\n",
    "import ipywidgets as ipw\n",
    "import matplotlib.pyplot as plt\n",
    "import seaborn as sns\n",
    "import pandas as pd\n",
    "\n",
    "sns.set()\n",
    "plt.rcParams['figure.dpi'] = 300\n",
    "\n",
    "results_dir = Path(\"/Users/jneines/development/pycon_berlin_2023/mandelbrot/results/\")\n",
    "\n",
    "results = []\n",
    "for results_file in results_dir.glob(\"*/*/*.json\"):\n",
    "    with results_file.open(\"r\") as fd:\n",
    "        result = json.loads(fd.read())\n",
    "        results.append(result)\n",
    "        \n",
    "df = pd.DataFrame(results)\n",
    "\n",
    "dfs = df[\n",
    "    (df[\"view\"].isin(view_names))\n",
    "    & (df[\"hostname\"] == host_name)\n",
    "    & (df[\"engine\"].isin(engine_names))\n",
    "].reset_index(drop=True)\n",
    "print(f\"We have {len(dfs)} results to analyze.\")\n",
    "\n",
    "tabs = ipw.Tab()\n",
    "\n",
    "tabs_children = []\n",
    "tab_names = []\n",
    "for view_name, _dfs in dfs.groupby(\"view\"):\n",
    "    tab_names.append(view_name)\n",
    "    with plt.ioff():\n",
    "        output = ipw.Output()\n",
    "        with output:\n",
    "            fig, axes = plt.subplots()\n",
    "            sns.violinplot(data=_dfs, x=\"engine\", y=\"calculation_time\", order=engine_names, ax=axes)\n",
    "            axes.set_ylim(0, None)\n",
    "            axes.set_ylabel(\"Calculation time [s]\")\n",
    "            axes.set_xlabel(None)\n",
    "\n",
    "            axes.set_xticklabels([\"\\n\" * (x_position%2) + label.get_text() for x_position, label in enumerate(axes.get_xticklabels())])\n",
    "            axes.set_title(view_name)\n",
    "\n",
    "            plt.tight_layout()\n",
    "            plt.show()\n",
    "        tabs_children.append(output)\n",
    "        \n",
    "tabs.children = tabs_children\n",
    "for index, tab_name in enumerate(tab_names):\n",
    "    tabs.set_title(index, tab_name)\n",
    "\n",
    "tabs"
   ]
  },
  {
   "cell_type": "code",
   "execution_count": null,
   "id": "77a6cb61-4cd0-4dc6-a0ae-b357d1616a84",
   "metadata": {},
   "outputs": [],
   "source": []
  }
 ],
 "metadata": {
  "kernelspec": {
   "display_name": "Python 3 (ipykernel)",
   "language": "python",
   "name": "python3"
  },
  "language_info": {
   "codemirror_mode": {
    "name": "ipython",
    "version": 3
   },
   "file_extension": ".py",
   "mimetype": "text/x-python",
   "name": "python",
   "nbconvert_exporter": "python",
   "pygments_lexer": "ipython3",
   "version": "3.10.10"
  }
 },
 "nbformat": 4,
 "nbformat_minor": 5
}