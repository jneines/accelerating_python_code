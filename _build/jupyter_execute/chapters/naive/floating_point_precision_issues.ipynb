{
 "cells": [
  {
   "cell_type": "markdown",
   "id": "91c91faf-b245-42d8-a657-5616c28d693b",
   "metadata": {
    "user_expressions": []
   },
   "source": [
    "# Floating point precision issues"
   ]
  },
  {
   "cell_type": "markdown",
   "id": "df02d771-9bd5-4c35-9041-380bb166302a",
   "metadata": {},
   "source": [
    "Let's quickly generate 10 numbers between -1.25 and 1.25 to see whats going on here. \n",
    "\n",
    "Based on the algorithm used we expect the list of numbers to be completely symmetric around zero."
   ]
  },
  {
   "cell_type": "code",
   "execution_count": 1,
   "id": "4f3b0350-682f-4ce4-807f-7ce5d4b87f03",
   "metadata": {
    "tags": []
   },
   "outputs": [
    {
     "data": {
      "text/plain": [
       "[-1.25,\n",
       " -0.9722222222222222,\n",
       " -0.6944444444444444,\n",
       " -0.41666666666666663,\n",
       " -0.13888888888888884,\n",
       " 0.13888888888888884,\n",
       " 0.41666666666666674,\n",
       " 0.6944444444444446,\n",
       " 0.9722222222222223,\n",
       " 1.25]"
      ]
     },
     "execution_count": 1,
     "metadata": {},
     "output_type": "execute_result"
    }
   ],
   "source": [
    "y_min, y_max = -1.25, 1.25\n",
    "resolution = 10\n",
    "\n",
    "y = [y_min + (y_max - y_min) / (resolution - 1) * index for index in range(resolution)]\n",
    "y"
   ]
  },
  {
   "cell_type": "markdown",
   "id": "27da4f62-9c7b-41df-9cdf-8466d5fc4602",
   "metadata": {},
   "source": [
    "- Numbers look the same at first glance.\n",
    "- Looking more closely though, they are not. \n",
    "- There are subtle changes at the precision limit.\n",
    "- This prevents effective use of the `cache`\n",
    "\n",
    "There's a simple way out though by enforcing true symmetry!"
   ]
  },
  {
   "cell_type": "code",
   "execution_count": 2,
   "id": "569e848d-03d8-457a-af72-23448a5207ff",
   "metadata": {
    "tags": []
   },
   "outputs": [
    {
     "data": {
      "text/plain": [
       "[-1.25,\n",
       " -0.9722222222222223,\n",
       " -0.6944444444444445,\n",
       " -0.4166666666666667,\n",
       " -0.13888888888888884,\n",
       " 0.13888888888888884,\n",
       " 0.4166666666666667,\n",
       " 0.6944444444444445,\n",
       " 0.9722222222222223,\n",
       " 1.25]"
      ]
     },
     "execution_count": 2,
     "metadata": {},
     "output_type": "execute_result"
    }
   ],
   "source": [
    "_y1 = [y_min + (y_max - y_min) / (resolution - 1) * index for index in range(resolution)]\n",
    "_y2 = [-y for y in _y1[::-1]]\n",
    "y = [(y1 + y2) / 2 for y1, y2 in zip(_y1, _y2)]\n",
    "y"
   ]
  },
  {
   "cell_type": "markdown",
   "id": "504cfcd4-41c9-4b5f-8127-bde72006a04f",
   "metadata": {
    "user_expressions": []
   },
   "source": [
    ":::{note}\n",
    "A more generalized implementation is doable but more complex. Find it in the [mandel-bench](https://github.com/jneines/mandel-bench) source code.\n",
    ":::"
   ]
  },
  {
   "cell_type": "code",
   "execution_count": null,
   "id": "39baf34a-96c2-45ad-bed9-eb54b76a9247",
   "metadata": {},
   "outputs": [],
   "source": []
  }
 ],
 "metadata": {
  "kernelspec": {
   "display_name": "Python 3 (ipykernel)",
   "language": "python",
   "name": "python3"
  },
  "language_info": {
   "codemirror_mode": {
    "name": "ipython",
    "version": 3
   },
   "file_extension": ".py",
   "mimetype": "text/x-python",
   "name": "python",
   "nbconvert_exporter": "python",
   "pygments_lexer": "ipython3",
   "version": "3.10.2"
  }
 },
 "nbformat": 4,
 "nbformat_minor": 5
}