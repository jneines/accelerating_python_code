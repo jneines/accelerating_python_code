{
 "cells": [
  {
   "cell_type": "markdown",
   "id": "96dad4ac-0efa-4f5f-b751-e78c6cee7c88",
   "metadata": {
    "user_expressions": []
   },
   "source": [
    "# Benchmark results"
   ]
  },
  {
   "cell_type": "code",
   "execution_count": 14,
   "id": "e57e6eea-b3d5-41b7-ae73-c40258ed27d4",
   "metadata": {
    "execution": {
     "iopub.execute_input": "2023-04-12T18:26:09.487465Z",
     "iopub.status.busy": "2023-04-12T18:26:09.487237Z",
     "iopub.status.idle": "2023-04-12T18:26:09.490134Z",
     "shell.execute_reply": "2023-04-12T18:26:09.489635Z",
     "shell.execute_reply.started": "2023-04-12T18:26:09.487448Z"
    },
    "tags": []
   },
   "outputs": [],
   "source": [
    "view_names = [\"base\", \"slight01\", \"medium01\"]\n",
    "host_name = \"NUC\"\n",
    "engine_names = [\"naive\", \"numpy\"]"
   ]
  },
  {
   "cell_type": "code",
   "execution_count": 16,
   "id": "dbe23fd9-8316-43e4-b21e-ff224c17aafb",
   "metadata": {
    "execution": {
     "iopub.execute_input": "2023-04-14T06:55:32.291187Z",
     "iopub.status.busy": "2023-04-14T06:55:32.290959Z",
     "iopub.status.idle": "2023-04-14T06:55:36.075918Z",
     "shell.execute_reply": "2023-04-14T06:55:36.075182Z",
     "shell.execute_reply.started": "2023-04-14T06:55:32.291170Z"
    },
    "tags": [
     "hide-input"
    ]
   },
   "outputs": [
    {
     "name": "stdout",
     "output_type": "stream",
     "text": [
      "We have 60 results to analyze.\n"
     ]
    },
    {
     "data": {
      "application/vnd.jupyter.widget-view+json": {
       "model_id": "c132ab2e66084ff4bbc88259d14eecaf",
       "version_major": 2,
       "version_minor": 0
      },
      "text/plain": [
       "Tab(children=(Output(), Output(), Output()), selected_index=0, titles=('base', 'medium01', 'slight01'))"
      ]
     },
     "execution_count": 16,
     "metadata": {},
     "output_type": "execute_result"
    }
   ],
   "source": [
    "from pathlib import Path\n",
    "import json\n",
    "\n",
    "import ipywidgets as ipw\n",
    "import matplotlib.pyplot as plt\n",
    "import seaborn as sns\n",
    "import pandas as pd\n",
    "\n",
    "sns.set()\n",
    "plt.rcParams['figure.dpi'] = 300\n",
    "\n",
    "results_dir = Path(\"/Users/jneines/development/pycon_berlin_2023/mandelbrot/results/\")\n",
    "\n",
    "results = []\n",
    "for results_file in results_dir.glob(\"*/*/*.json\"):\n",
    "    with results_file.open(\"r\") as fd:\n",
    "        result = json.loads(fd.read())\n",
    "        results.append(result)\n",
    "        \n",
    "df = pd.DataFrame(results)\n",
    "\n",
    "dfs = df[\n",
    "    (df[\"view\"].isin(view_names))\n",
    "    & (df[\"hostname\"] == host_name)\n",
    "    & (df[\"engine\"].isin(engine_names))\n",
    "].reset_index(drop=True)\n",
    "print(f\"We have {len(dfs)} results to analyze.\")\n",
    "\n",
    "tabs = ipw.Tab()\n",
    "\n",
    "tabs_children = []\n",
    "tab_names = []\n",
    "for view_name, _dfs in dfs.groupby(\"view\"):\n",
    "    tab_names.append(view_name)\n",
    "    with plt.ioff():\n",
    "        output = ipw.Output()\n",
    "        with output:\n",
    "            fig, axes = plt.subplots()\n",
    "            sns.violinplot(data=_dfs, x=\"engine\", y=\"calculation_time\", order=engine_names, ax=axes)\n",
    "            axes.set_ylim(0, None)\n",
    "            axes.set_ylabel(\"Calculation time [s]\")\n",
    "            axes.set_xlabel(None)\n",
    "\n",
    "            axes.set_xticklabels([\"\\n\" * (x_position%2) + label.get_text() for x_position, label in enumerate(axes.get_xticklabels())])\n",
    "            axes.set_title(view_name)\n",
    "\n",
    "            plt.tight_layout()\n",
    "            plt.show()\n",
    "        tabs_children.append(output)\n",
    "        \n",
    "tabs.children = tabs_children\n",
    "for index, tab_name in enumerate(tab_names):\n",
    "    tabs.set_title(index, tab_name)\n",
    "\n",
    "tabs"
   ]
  },
  {
   "cell_type": "code",
   "execution_count": null,
   "id": "fd7cae48-dba8-40bb-8dd1-f88ec45002f9",
   "metadata": {},
   "outputs": [],
   "source": []
  }
 ],
 "metadata": {
  "kernelspec": {
   "display_name": "Python 3 (ipykernel)",
   "language": "python",
   "name": "python3"
  },
  "language_info": {
   "codemirror_mode": {
    "name": "ipython",
    "version": 3
   },
   "file_extension": ".py",
   "mimetype": "text/x-python",
   "name": "python",
   "nbconvert_exporter": "python",
   "pygments_lexer": "ipython3",
   "version": "3.10.10"
  }
 },
 "nbformat": 4,
 "nbformat_minor": 5
}
