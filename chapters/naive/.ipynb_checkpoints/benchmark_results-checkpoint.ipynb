{
 "cells": [
  {
   "cell_type": "markdown",
   "id": "388888b6-8f74-4318-bbbd-fb1f0918291e",
   "metadata": {
    "user_expressions": []
   },
   "source": [
    "# Actual benchmark results"
   ]
  },
  {
   "cell_type": "markdown",
   "id": "573b738d-4f89-4cad-a8d4-e537207618f3",
   "metadata": {
    "user_expressions": []
   },
   "source": [
    "All results are stored in a `json` encoded format, which can easily be read and converted into a `pandas.DataFrame` for simple analysis.\n",
    "\n",
    "After that we just need to filter the `Dataframe` to create the overviews."
   ]
  },
  {
   "cell_type": "markdown",
   "id": "a894a554-1955-4b1e-887b-80a5e88eb79b",
   "metadata": {
    "user_expressions": []
   },
   "source": [
    ":::{note}\n",
    "The way an engine is implemented, encapsulating the code in a single function call, gives misleading results in the benchmarks for the `naive` implementations, which are no longer executed in the `globals()` context.\n",
    "Therefore the results for the 'naive', 'inner-func' and 'outer-func' implementations are very similar, although they differ when executed properly in a `jupyter notebook` for example.\n",
    ":::"
   ]
  },
  {
   "cell_type": "code",
   "execution_count": 1,
   "id": "766b76d4-5458-4c48-9ce4-73b0e9bb40b6",
   "metadata": {
    "tags": []
   },
   "outputs": [],
   "source": [
    "view_names = [\"base\", \"slight01\", \"medium01\"]\n",
    "host_name = \"NUC\"\n",
    "engine_names = [\"naive\", \"inner-func\", \"outer-func\", \"naive-caching\", \"optimized-caching\"]"
   ]
  },
  {
   "cell_type": "code",
   "execution_count": 2,
   "id": "6f15c26c-605a-4f34-bcd8-2e5ea36277ef",
   "metadata": {
    "tags": [
     "hide-input"
    ]
   },
   "outputs": [
    {
     "name": "stdout",
     "output_type": "stream",
     "text": [
      "We have 90 results to analyze.\n"
     ]
    },
    {
     "data": {
      "application/vnd.jupyter.widget-view+json": {
       "model_id": "5ddfb7a54e18417abdb964f7ff6a26e9",
       "version_major": 2,
       "version_minor": 0
      },
      "text/plain": [
       "Tab(children=(Output(), Output(), Output()), _titles={'0': 'base', '1': 'medium01', '2': 'slight01'})"
      ]
     },
     "metadata": {},
     "output_type": "display_data"
    }
   ],
   "source": [
    "from pathlib import Path\n",
    "import json\n",
    "\n",
    "import ipywidgets as ipw\n",
    "import matplotlib.pyplot as plt\n",
    "import seaborn as sns\n",
    "import pandas as pd\n",
    "\n",
    "sns.set()\n",
    "plt.rcParams['figure.dpi'] = 300\n",
    "\n",
    "results_dir = Path(\"/Users/jneines/development/pycon_berlin_2023/mandelbrot/results/\")\n",
    "\n",
    "results = []\n",
    "for results_file in results_dir.glob(\"*/*/*.json\"):\n",
    "    with results_file.open(\"r\") as fd:\n",
    "        result = json.loads(fd.read())\n",
    "        results.append(result)\n",
    "        \n",
    "df = pd.DataFrame(results)\n",
    "\n",
    "# filter\n",
    "\n",
    "dfs = df[\n",
    "    (df[\"view\"].isin(view_names))\n",
    "    & (df[\"hostname\"] == host_name)\n",
    "    & (df[\"engine\"].isin(engine_names))\n",
    "].reset_index(drop=True)\n",
    "print(f\"We have {len(dfs)} results to analyze.\")\n",
    "\n",
    "# display\n",
    "\n",
    "tabs = ipw.Tab()\n",
    "\n",
    "tabs_children = []\n",
    "tab_names = []\n",
    "for view_name, _dfs in dfs.groupby(\"view\"):\n",
    "    tab_names.append(view_name)\n",
    "    with plt.ioff():\n",
    "        output = ipw.Output()\n",
    "        with output:\n",
    "            fig, axes = plt.subplots()\n",
    "            sns.violinplot(data=_dfs, x=\"engine\", y=\"calculation_time\", order=engine_names, ax=axes)\n",
    "            axes.set_ylim(0, None)\n",
    "            axes.set_ylabel(\"Calculation time [s]\")\n",
    "            axes.set_xlabel(None)\n",
    "\n",
    "            axes.set_xticklabels([\"\\n\" * (x_position%2) + label.get_text() for x_position, label in enumerate(axes.get_xticklabels())])\n",
    "            axes.set_title(view_name)\n",
    "\n",
    "            plt.tight_layout()\n",
    "            plt.show()\n",
    "        tabs_children.append(output)\n",
    "        \n",
    "tabs.children = tabs_children\n",
    "for index, tab_name in enumerate(tab_names):\n",
    "    tabs.set_title(index, tab_name)\n",
    "\n",
    "tabs"
   ]
  },
  {
   "cell_type": "code",
   "execution_count": null,
   "id": "90cc7def-02c5-4406-ae23-65c47e332718",
   "metadata": {},
   "outputs": [],
   "source": []
  }
 ],
 "metadata": {
  "kernelspec": {
   "display_name": "Python 3 (ipykernel)",
   "language": "python",
   "name": "python3"
  },
  "language_info": {
   "codemirror_mode": {
    "name": "ipython",
    "version": 3
   },
   "file_extension": ".py",
   "mimetype": "text/x-python",
   "name": "python",
   "nbconvert_exporter": "python",
   "pygments_lexer": "ipython3",
   "version": "3.10.2"
  }
 },
 "nbformat": 4,
 "nbformat_minor": 5
}
