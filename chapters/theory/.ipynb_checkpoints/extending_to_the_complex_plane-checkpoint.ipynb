{
 "cells": [
  {
   "cell_type": "markdown",
   "id": "dafd95e2-0d3c-4de5-bf99-877ec143596a",
   "metadata": {
    "user_expressions": []
   },
   "source": [
    "# Extending the idea to the complex plane"
   ]
  },
  {
   "cell_type": "markdown",
   "id": "cf0d5c24-370b-49e4-94d2-2d1e41edbe92",
   "metadata": {},
   "source": [
    "Updating the strategy for use of complex numbers is simple.\n",
    "- Add the imaginary part.\n",
    "- Choose a suitable `norm` for the convergence criteria.\n",
    "- Track some comparable intermediate result for visualization, the *real* part of the iterands in this case."
   ]
  },
  {
   "cell_type": "code",
   "execution_count": 2,
   "id": "c55be0c9-e174-498d-be2f-83a3d070798b",
   "metadata": {
    "tags": [
     "hide-cell"
    ]
   },
   "outputs": [],
   "source": [
    "import ipywidgets as ipw\n",
    "import matplotlib.pyplot as plt\n",
    "import seaborn as sns\n",
    "sns.set()\n",
    "plt.rcParams['figure.dpi'] = 300\n",
    "\n",
    "def calculate(x, y, max_iterations):\n",
    "    c = complex(x, y)\n",
    "    c0 = c\n",
    "    results = []\n",
    "    for index in range(max_iterations):\n",
    "        c = c**2 + c0\n",
    "        if abs(c) > 10:\n",
    "            break\n",
    "        results.append(c.real)\n",
    "\n",
    "    return results\n",
    "\n",
    "x_min, x_max = -2.1, .5\n",
    "max_iterations = 50\n",
    "resolution = 300\n",
    "\n",
    "x = [x_min + (x_max - x_min) / (resolution - 1) * index for index in range(resolution)]"
   ]
  },
  {
   "cell_type": "markdown",
   "id": "b520db81-0551-42cb-be32-96458698353c",
   "metadata": {
    "user_expressions": []
   },
   "source": [
    "Now we need to choose some numbers to fill the imaginary part.\n",
    "Surely we will be choosing these."
   ]
  },
  {
   "cell_type": "code",
   "execution_count": 3,
   "id": "a0812d78-590e-41cf-9062-d78c202effa9",
   "metadata": {
    "tags": []
   },
   "outputs": [],
   "source": [
    "ys = [0, .1, .25, .5, 1, 1.25, -.25, -.1]"
   ]
  },
  {
   "cell_type": "code",
   "execution_count": 4,
   "id": "25538df9-aa8e-4a74-aa3a-3e955c7792d6",
   "metadata": {
    "tags": [
     "hide-input"
    ]
   },
   "outputs": [
    {
     "data": {
      "application/vnd.jupyter.widget-view+json": {
       "model_id": "e8e2f3c20ca84cb08149a14217f14887",
       "version_major": 2,
       "version_minor": 0
      },
      "text/plain": [
       "Tab(children=(Output(), Output(), Output(), Output(), Output(), Output(), Output(), Output()), _titles={'0': '…"
      ]
     },
     "metadata": {},
     "output_type": "display_data"
    }
   ],
   "source": [
    "tabs = ipw.Tab()\n",
    "children = []\n",
    "for _y in ys:\n",
    "    y = [calculate(_x, _y, max_iterations) for _x in x]\n",
    "    \n",
    "    with plt.ioff():\n",
    "        output = ipw.Output()\n",
    "        with output:\n",
    "            fig, axes = plt.subplots()\n",
    "            for _x, __y in zip(x, y):\n",
    "                __x = [_x for _ in __y]\n",
    "                axes.plot(__x, __y, \"b.\", markersize=1)\n",
    "            axes.set_ylim(-2.2, 2.2)\n",
    "            axes.set_title(f\"y={_y}\")\n",
    "            plt.tight_layout()\n",
    "            plt.show()\n",
    "            children.append(output)\n",
    "\n",
    "tabs.children = children\n",
    "for index in range(len(children)):\n",
    "    tabs.set_title(index, f\"y={ys[index]}\")\n",
    "    \n",
    "tabs"
   ]
  },
  {
   "cell_type": "markdown",
   "id": "4f342f01-0290-4ef9-b707-a2d637fa38a1",
   "metadata": {
    "user_expressions": []
   },
   "source": [
    "The behaviour is quite comparable to what we've seen for plain real numbers.\n",
    "\n",
    "Still, the overall pattern is not directly visible, as the effect of the imginary part is missing in the plots.\n",
    "\n",
    "Again, we need a different strategy."
   ]
  },
  {
   "cell_type": "code",
   "execution_count": null,
   "id": "d2f476bf-08ed-4b6a-a2ef-ff0ea209ca5e",
   "metadata": {},
   "outputs": [],
   "source": []
  }
 ],
 "metadata": {
  "kernelspec": {
   "display_name": "Python 3 (ipykernel)",
   "language": "python",
   "name": "python3"
  },
  "language_info": {
   "codemirror_mode": {
    "name": "ipython",
    "version": 3
   },
   "file_extension": ".py",
   "mimetype": "text/x-python",
   "name": "python",
   "nbconvert_exporter": "python",
   "pygments_lexer": "ipython3",
   "version": "3.10.2"
  }
 },
 "nbformat": 4,
 "nbformat_minor": 5
}
