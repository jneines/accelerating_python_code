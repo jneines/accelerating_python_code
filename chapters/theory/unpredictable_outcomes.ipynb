{
 "cells": [
  {
   "cell_type": "markdown",
   "id": "0cd0c45a-c065-422c-8e4d-47d90a7576e3",
   "metadata": {},
   "source": [
    "# Unpredictable outcome"
   ]
  },
  {
   "cell_type": "markdown",
   "id": "21ed0171-634b-4da7-bbba-382996989bf7",
   "metadata": {
    "user_expressions": []
   },
   "source": [
    "Let's warm up for the task a bit and do some simple calculations.\n",
    "\n",
    "Let's translate the mathematical formula into something more imperative first:\n",
    "    \n",
    "    - take a number\n",
    "    - update the number by squaring it and adding the original number to it\n",
    "    - repeat this a few times and watch the value of the number at each iteration\n",
    "    \n",
    "To put this into a valid python algorithm we could write a function to support us."
   ]
  },
  {
   "cell_type": "code",
   "execution_count": 1,
   "id": "03049735-5af8-4717-b7ba-fd7d5495bac5",
   "metadata": {
    "tags": []
   },
   "outputs": [],
   "source": [
    "def calculate(x, max_iterations=10):\n",
    "    print(f\"{x=}, {max_iterations=}\")\n",
    "    x0 = x\n",
    "    for index in range(max_iterations):\n",
    "        x = x**2 + x0\n",
    "        print(x)"
   ]
  },
  {
   "cell_type": "markdown",
   "id": "a54349b0-3a8d-46a4-814d-3e85fdaf0ad2",
   "metadata": {
    "user_expressions": []
   },
   "source": [
    "Let's try this with a few numbers that immediately come to mind.\n",
    "Say numbers like these ..."
   ]
  },
  {
   "cell_type": "code",
   "execution_count": 4,
   "id": "c4d8f965-e1da-4c50-9ff5-512285b9dc42",
   "metadata": {
    "tags": []
   },
   "outputs": [],
   "source": [
    "numbers = [0, 1, .5, .25, .125, -.125, -.25, -.5, -1, -1.5, -2, -2.1]"
   ]
  },
  {
   "cell_type": "code",
   "execution_count": 5,
   "id": "a5e32c0f-f6e6-4170-95ab-2f79d9c2557b",
   "metadata": {
    "tags": [
     "hide-input"
    ]
   },
   "outputs": [
    {
     "data": {
      "application/vnd.jupyter.widget-view+json": {
       "model_id": "2163613b590248ccba1f191beb8099d8",
       "version_major": 2,
       "version_minor": 0
      },
      "text/plain": [
       "Tab(children=(Output(), Output(), Output(), Output(), Output(), Output(), Output(), Output(), Output(), Output…"
      ]
     },
     "metadata": {},
     "output_type": "display_data"
    }
   ],
   "source": [
    "import ipywidgets as ipw\n",
    "\n",
    "tabs_children = []\n",
    "numbers = [\n",
    "    (0, 5),\n",
    "    (1, 10),\n",
    "    (.5, 10),\n",
    "    (.25, 10),\n",
    "    (.25, 20),\n",
    "    (.25, 30),\n",
    "    (.125, 20),\n",
    "    (-.125, 10),\n",
    "    (-.25, 10),\n",
    "    (-.5,  10),\n",
    "    (-1, 10),\n",
    "    (-1.5, 20),\n",
    "    (-2, 5),\n",
    "    (-2.1, 10)\n",
    "]\n",
    "for number,max_iterations in numbers:\n",
    "    output = ipw.Output()\n",
    "    with output:\n",
    "        calculate(number, max_iterations)\n",
    "    tabs_children.append(output)\n",
    "    \n",
    "tabs = ipw.Tab()\n",
    "tabs.children = tabs_children\n",
    "for index, number in enumerate(numbers):\n",
    "    tabs.set_title(index, f\"{number}\")\n",
    "    \n",
    "tabs"
   ]
  },
  {
   "cell_type": "markdown",
   "id": "d7cac92b-5347-4789-8b4d-70875158e266",
   "metadata": {
    "user_expressions": []
   },
   "source": [
    "Quite an interesting behaviour for a simple series definition.\n",
    "And highly unpredictable. \n",
    "\n",
    "But I think we need a more visual approach here to understand the details."
   ]
  },
  {
   "cell_type": "code",
   "execution_count": null,
   "id": "788648a2-d037-4678-961f-d8e3dce759a6",
   "metadata": {},
   "outputs": [],
   "source": []
  }
 ],
 "metadata": {
  "kernelspec": {
   "display_name": "Python 3 (ipykernel)",
   "language": "python",
   "name": "python3"
  },
  "language_info": {
   "codemirror_mode": {
    "name": "ipython",
    "version": 3
   },
   "file_extension": ".py",
   "mimetype": "text/x-python",
   "name": "python",
   "nbconvert_exporter": "python",
   "pygments_lexer": "ipython3",
   "version": "3.10.2"
  }
 },
 "nbformat": 4,
 "nbformat_minor": 5
}
